{
 "cells": [
  {
   "cell_type": "markdown",
   "id": "fb73f79e",
   "metadata": {},
   "source": [
    "## Scrape from index.html"
   ]
  },
  {
   "cell_type": "code",
   "execution_count": 48,
   "id": "e33fa783",
   "metadata": {},
   "outputs": [
    {
     "name": "stdout",
     "output_type": "stream",
     "text": [
      "Python for beginners costs 20$\n",
      "Python Web Development costs 50$\n",
      "Python Machine Learning costs 100$\n"
     ]
    }
   ],
   "source": [
    "from bs4 import BeautifulSoup\n",
    "\n",
    "with open('index.html', 'r') as html_file:\n",
    "    content = html_file.read()\n",
    "    #print(content)\n",
    "    \n",
    "    soup = BeautifulSoup(content, 'lxml')\n",
    "    #print(soup.prettify())\n",
    "    \n",
    "    #grab elements .find or .find_all\n",
    "    tags = soup.find_all('h5')\n",
    "    \n",
    "    for course in tags:\n",
    "        # print the text attribute\n",
    "        #print(course.text)\n",
    "        pass\n",
    "        \n",
    "    course_cards = soup.find_all('div', class_ = 'card')\n",
    "    \n",
    "    for course in course_cards:\n",
    "        course_name = course.h5.text\n",
    "        course_price = course.a.text.split()[-1] #get the price\n",
    "        \n",
    "        print(f'{course_name} costs {course_price}')\n",
    "        "
   ]
  },
  {
   "cell_type": "markdown",
   "id": "3215ce7b",
   "metadata": {},
   "source": [
    "<hr>\n",
    "\n",
    "## Scrape real website"
   ]
  },
  {
   "cell_type": "code",
   "execution_count": null,
   "id": "b66f7bba",
   "metadata": {},
   "outputs": [],
   "source": [
    "from bs4 import BeautifulSoup\n",
    "import requests\n",
    "import time\n",
    "\n",
    "print('Enter skills that you are not familiar with')\n",
    "unfamiliar_skill = input('>').lower().replace(' ','')\n",
    "print(f'Filtering out {unfamiliar_skill}\\n')\n",
    "\n",
    "def find_jobs():\n",
    "    html_text = requests.get('https://m.timesjobs.com/mobile/jobs-search-result.html?txtKeywords=python&txtLocation=&cboWorkExp1=-1').text\n",
    "    soup = BeautifulSoup(html_text, 'lxml')\n",
    "\n",
    "    jobs = soup.find_all('div', class_ = 'srp-listing')\n",
    "\n",
    "    for job in jobs:\n",
    "        latest_jobs = [f'{n}d' for n in range(1, 8)]\n",
    "        date = job.find('span', class_ = 'posting-time').text\n",
    "\n",
    "        if date in latest_jobs:\n",
    "            company_name = job.h4.text\n",
    "            skills = job.find('div', class_ = 'srp-keyskills').text.lower()\n",
    "            link = job.a['href']\n",
    "\n",
    "            if unfamiliar_skill not in skills.replace(' ','') or unfamiliar_skill.replace(' ','') == '':\n",
    "                print(f'Company Name: {company_name.strip()}')\n",
    "                print(f'Skills: {skills.strip()}')\n",
    "                print(f'Published Date: {date}')\n",
    "                print(f'More Info: {link}\\n')\n",
    "                \n",
    "\n",
    "if __name__ == '__main__':\n",
    "    while True:\n",
    "        find_jobs()\n",
    "        time_wait = 10\n",
    "        print(f'Waiting {time_wait} minutes...')\n",
    "        time.sleep(time_wait * 60)"
   ]
  },
  {
   "cell_type": "markdown",
   "id": "5d20c69f",
   "metadata": {},
   "source": [
    "<hr>\n",
    "\n",
    "## Scrape real website and create file"
   ]
  },
  {
   "cell_type": "code",
   "execution_count": null,
   "id": "50b1bda7",
   "metadata": {},
   "outputs": [
    {
     "name": "stdout",
     "output_type": "stream",
     "text": [
      "Enter skills that you are not familiar with\n",
      ">api\n",
      "Filtering out api\n",
      "\n",
      "File saved: 3\n",
      "File saved: 8\n",
      "File saved: 12\n",
      "File saved: 13\n",
      "File saved: 14\n",
      "File saved: 16\n",
      "File saved: 17\n",
      "Waiting 10 minutes...\n"
     ]
    }
   ],
   "source": [
    "from bs4 import BeautifulSoup\n",
    "import requests\n",
    "import time\n",
    "\n",
    "print('Enter skills that you are not familiar with')\n",
    "unfamiliar_skill = input('>').lower().replace(' ','')\n",
    "print(f'Filtering out {unfamiliar_skill}\\n')\n",
    "\n",
    "def find_jobs():\n",
    "    html_text = requests.get('https://m.timesjobs.com/mobile/jobs-search-result.html?txtKeywords=python&txtLocation=&cboWorkExp1=-1').text\n",
    "    soup = BeautifulSoup(html_text, 'lxml')\n",
    "\n",
    "    jobs = soup.find_all('div', class_ = 'srp-listing')\n",
    "\n",
    "    for i, job in enumerate(jobs):\n",
    "        latest_jobs = [f'{n}d' for n in range(1, 8)]\n",
    "        date = job.find('span', class_ = 'posting-time').text\n",
    "\n",
    "        if date in latest_jobs:\n",
    "            company_name = job.h4.text\n",
    "            skills = job.find('div', class_ = 'srp-keyskills').text.lower()\n",
    "            link = job.a['href']\n",
    "\n",
    "            if unfamiliar_skill not in skills.replace(' ','') or unfamiliar_skill.replace(' ','') == '':\n",
    "                with open(f'posts/{i}.txt', 'w') as f:\n",
    "                    f.write(f'Company Name: {company_name.strip()}\\n')\n",
    "                    f.write(f'Skills: {skills.strip()}\\n')\n",
    "                    f.write(f'Published Date: {date}\\n')\n",
    "                    f.write(f'More Info: {link}\\n')\n",
    "                print(f'File saved: {i}')\n",
    "                \n",
    "\n",
    "if __name__ == '__main__':\n",
    "    while True:\n",
    "        find_jobs()\n",
    "        time_wait = 10\n",
    "        print(f'Waiting {time_wait} minutes...')\n",
    "        time.sleep(time_wait * 60)"
   ]
  },
  {
   "cell_type": "code",
   "execution_count": null,
   "id": "1328d830",
   "metadata": {},
   "outputs": [],
   "source": []
  }
 ],
 "metadata": {
  "kernelspec": {
   "display_name": "Python 3 (ipykernel)",
   "language": "python",
   "name": "python3"
  },
  "language_info": {
   "codemirror_mode": {
    "name": "ipython",
    "version": 3
   },
   "file_extension": ".py",
   "mimetype": "text/x-python",
   "name": "python",
   "nbconvert_exporter": "python",
   "pygments_lexer": "ipython3",
   "version": "3.10.9"
  }
 },
 "nbformat": 4,
 "nbformat_minor": 5
}
